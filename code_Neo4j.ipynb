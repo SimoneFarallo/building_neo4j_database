{
 "cells": [
  {
   "cell_type": "markdown",
   "id": "885b2342",
   "metadata": {
    "id": "885b2342"
   },
   "source": [
    "# Data modelling on neo4j\n"
   ]
  },
  {
   "cell_type": "markdown",
   "id": "fdae76f2",
   "metadata": {
    "id": "fdae76f2"
   },
   "source": [
    "Import library provided by neo4j for python."
   ]
  },
  {
   "cell_type": "code",
   "execution_count": null,
   "id": "3937294f",
   "metadata": {
    "id": "3937294f"
   },
   "outputs": [],
   "source": [
    "import pandas as pd\n",
    "import numpy as np\n",
    "from neo4j import GraphDatabase\n",
    "import csv\n"
   ]
  },
  {
   "cell_type": "markdown",
   "id": "ee51269b",
   "metadata": {
    "id": "ee51269b"
   },
   "source": [
    "Connect python notebook to the neo4j database and assign to session the function to run the queries."
   ]
  },
  {
   "cell_type": "code",
   "execution_count": null,
   "id": "3c378a85",
   "metadata": {
    "id": "3c378a85"
   },
   "outputs": [],
   "source": [
    "driver = GraphDatabase.driver(uri='bolt://localhost:7687', auth=('neo4j','simone'))\n",
    "session = driver.session()"
   ]
  },
  {
   "cell_type": "markdown",
   "id": "fb02f095",
   "metadata": {
    "id": "fb02f095"
   },
   "source": [
    "# Constraints"
   ]
  },
  {
   "cell_type": "markdown",
   "id": "2b5d3cbb",
   "metadata": {
    "id": "2b5d3cbb"
   },
   "source": [
    "For each entity, a uniqueness constraint has been applied on the key prorperty for the main property so that within the DBMS no two nodes of the same type having the same value for the specific property can be entered."
   ]
  },
  {
   "cell_type": "code",
   "execution_count": null,
   "id": "8f5928e3",
   "metadata": {
    "id": "8f5928e3",
    "outputId": "a9189c29-a010-46a5-d98b-d5793a20e15d"
   },
   "outputs": [
    {
     "data": {
      "text/plain": [
       "<neo4j.work.result.Result at 0x1807099bd00>"
      ]
     },
     "execution_count": 3,
     "metadata": {},
     "output_type": "execute_result"
    }
   ],
   "source": [
    "v1='''CREATE CONSTRAINT ON (c:Characters) ASSERT c.name_character IS UNIQUE'''\n",
    "#session.run(v1)"
   ]
  },
  {
   "cell_type": "code",
   "execution_count": null,
   "id": "93f88f37",
   "metadata": {
    "id": "93f88f37",
    "outputId": "558ba541-54f0-48d3-8a13-5f324d29af44"
   },
   "outputs": [
    {
     "data": {
      "text/plain": [
       "<neo4j.work.result.Result at 0x18070979790>"
      ]
     },
     "execution_count": 4,
     "metadata": {},
     "output_type": "execute_result"
    }
   ],
   "source": [
    "v2='''CREATE CONSTRAINT ON (n:Crews) ASSERT n.name_crew IS UNIQUE'''\n",
    "#session.run(v2)"
   ]
  },
  {
   "cell_type": "code",
   "execution_count": null,
   "id": "9ffd966f",
   "metadata": {
    "id": "9ffd966f",
    "outputId": "300d8801-e2b0-4158-843f-60717394ae82"
   },
   "outputs": [
    {
     "data": {
      "text/plain": [
       "<neo4j.work.result.Result at 0x180709a8220>"
      ]
     },
     "execution_count": 5,
     "metadata": {},
     "output_type": "execute_result"
    }
   ],
   "source": [
    "v3='''CREATE CONSTRAINT ON (e:Episode) ASSERT e.number_ep IS UNIQUE'''\n",
    "#session.run(v3)"
   ]
  },
  {
   "cell_type": "code",
   "execution_count": null,
   "id": "bc67ba3e",
   "metadata": {
    "id": "bc67ba3e",
    "outputId": "ffc4b25f-4b04-44d3-c086-ec2a22ff719c"
   },
   "outputs": [
    {
     "data": {
      "text/plain": [
       "<neo4j.work.result.Result at 0x180709a8a00>"
      ]
     },
     "execution_count": 6,
     "metadata": {},
     "output_type": "execute_result"
    }
   ],
   "source": [
    "v4 ='''CREATE CONSTRAINT ON (f:Fruit_class) ASSERT f.class_name IS UNIQUE'''\n",
    "#session.run(v4)"
   ]
  },
  {
   "cell_type": "code",
   "execution_count": null,
   "id": "82fc13f4",
   "metadata": {
    "id": "82fc13f4",
    "outputId": "a5a26f88-28c7-452d-9582-06ebc43b8180"
   },
   "outputs": [
    {
     "data": {
      "text/plain": [
       "<neo4j.work.result.Result at 0x180709a8190>"
      ]
     },
     "execution_count": 7,
     "metadata": {},
     "output_type": "execute_result"
    }
   ],
   "source": [
    "v5 ='''CREATE CONSTRAINT ON (m:Manga) ASSERT m.number_chapter IS UNIQUE'''\n",
    "#session.run(v5)"
   ]
  },
  {
   "cell_type": "code",
   "execution_count": null,
   "id": "271bad01",
   "metadata": {
    "id": "271bad01",
    "outputId": "958494d7-e053-4af1-d7b6-25ca56d0d047"
   },
   "outputs": [
    {
     "data": {
      "text/plain": [
       "<neo4j.work.result.Result at 0x180709c41c0>"
      ]
     },
     "execution_count": 8,
     "metadata": {},
     "output_type": "execute_result"
    }
   ],
   "source": [
    "v6 ='''CREATE CONSTRAINT ON (r:Race) ASSERT r.name_race IS UNIQUE'''\n",
    "#session.run(v6)"
   ]
  },
  {
   "cell_type": "code",
   "execution_count": null,
   "id": "178d7d81",
   "metadata": {
    "id": "178d7d81",
    "outputId": "7da60ddc-e6bf-4f15-fde7-d35e3f74a94a"
   },
   "outputs": [
    {
     "data": {
      "text/plain": [
       "<neo4j.work.result.Result at 0x180709c4100>"
      ]
     },
     "execution_count": 9,
     "metadata": {},
     "output_type": "execute_result"
    }
   ],
   "source": [
    "v7 ='''CREATE CONSTRAINT ON (s:Saga) ASSERT s.name_saga IS UNIQUE'''\n",
    "#session.run(v7)"
   ]
  },
  {
   "cell_type": "code",
   "execution_count": null,
   "id": "11f38013",
   "metadata": {
    "id": "11f38013",
    "outputId": "a9123eed-9a07-49ae-d614-9d885ffe65fb"
   },
   "outputs": [
    {
     "data": {
      "text/plain": [
       "<neo4j.work.result.Result at 0x180709c4730>"
      ]
     },
     "execution_count": 10,
     "metadata": {},
     "output_type": "execute_result"
    }
   ],
   "source": [
    "v8 ='''CREATE CONSTRAINT ON (a:Sea) ASSERT a.sea_name IS UNIQUE'''\n",
    "#session.run(v8)"
   ]
  },
  {
   "cell_type": "markdown",
   "id": "6ba4aee3",
   "metadata": {
    "id": "6ba4aee3"
   },
   "source": [
    "# Nodes and Properties"
   ]
  },
  {
   "cell_type": "markdown",
   "id": "01f47848",
   "metadata": {
    "id": "01f47848"
   },
   "source": [
    "Create entities following the previously created a priori schema,all datasets were unified according to neo4j rules in the pre-processing phase and for each property the data type was specified (int,string,float,bool)"
   ]
  },
  {
   "cell_type": "markdown",
   "id": "0bdc6c80",
   "metadata": {
    "id": "0bdc6c80"
   },
   "source": [
    "**Episode**: describes all the anime episodes up to episode 958."
   ]
  },
  {
   "cell_type": "code",
   "execution_count": null,
   "id": "b1642e0b",
   "metadata": {
    "id": "b1642e0b",
    "outputId": "663550a8-916a-415f-fc69-9ed0408375dc",
    "scrolled": true
   },
   "outputs": [
    {
     "data": {
      "text/plain": [
       "<neo4j.work.result.Result at 0x180709c4c70>"
      ]
     },
     "execution_count": 11,
     "metadata": {},
     "output_type": "execute_result"
    }
   ],
   "source": [
    "q1='''LOAD CSV WITH HEADERS FROM 'https://github.com/SimoneFarallo/One_Piece_Neo4j_Graph/raw/main/df_after_PP/Anime_neo4j' AS line CREATE (e:Episode {title_ep: toString(line.Title_episode),number_ep:toInteger(line.episode),year_of_release_ep: toInteger(line.start), total_votes_ep:toInteger(line.total_votes), average_rating_ep:toFloat(line.average_rating),\n",
    "rank_episode_ep:(line.rank_episode)})'''\n",
    "#session.run(q1)"
   ]
  },
  {
   "cell_type": "markdown",
   "id": "3d1a672c",
   "metadata": {
    "id": "3d1a672c"
   },
   "source": [
    "**Manga**: describes information regarding individual chapters of the Manga."
   ]
  },
  {
   "cell_type": "code",
   "execution_count": null,
   "id": "72c142f3",
   "metadata": {
    "id": "72c142f3",
    "outputId": "9b3df789-cf0c-45db-97da-eb5532d42866"
   },
   "outputs": [
    {
     "data": {
      "text/plain": [
       "<neo4j.work.result.Result at 0x180709ce370>"
      ]
     },
     "execution_count": 12,
     "metadata": {},
     "output_type": "execute_result"
    }
   ],
   "source": [
    "q2 = '''LOAD CSV WITH HEADERS FROM 'https://github.com/SimoneFarallo/One_Piece_Neo4j_Graph/raw/main/df_after_PP/Manga_neo4j' AS line CREATE (m:Manga  {title_chapter:toString(line.Title_chapter), number_chapter:toInteger(line.number_chapter), release_date_chapter:(line.release_date_chapter), page_chapter:toInteger(line.page_chapter)}) '''\n",
    "#session.run(q2)"
   ]
  },
  {
   "cell_type": "markdown",
   "id": "9356806c",
   "metadata": {
    "id": "9356806c"
   },
   "source": [
    "**Saga**: describes all the sagas within both the Manga and the Anime."
   ]
  },
  {
   "cell_type": "code",
   "execution_count": null,
   "id": "aefc3159",
   "metadata": {
    "id": "aefc3159",
    "outputId": "b727bdbe-f3f0-4942-848b-84438a4bbd41"
   },
   "outputs": [
    {
     "data": {
      "text/plain": [
       "<neo4j.work.result.Result at 0x180709ce910>"
      ]
     },
     "execution_count": 13,
     "metadata": {},
     "output_type": "execute_result"
    }
   ],
   "source": [
    "q3 ='''LOAD CSV WITH HEADERS FROM 'https://github.com/SimoneFarallo/One_Piece_Neo4j_Graph/raw/main/df_after_PP/Saghe_neo4j' AS line CREATE(s:Saga {name_saga:toString(line.Arco_narrativo),total_chapters:toInteger(line.Total_Chapters), total_pages:toInteger(line.Total_Pages) ,manga_percentage:(line.Manga_perc),total_episodes:toInteger(line.Total_Episodes),anime_percentage:(line.Anime_perc)}) '''\n",
    "#session.run(q3)"
   ]
  },
  {
   "cell_type": "markdown",
   "id": "1e0e2904",
   "metadata": {
    "id": "1e0e2904"
   },
   "source": [
    "**Foreshadows**: describes the foreshadowing within the manga and when it is these were revealed."
   ]
  },
  {
   "cell_type": "code",
   "execution_count": null,
   "id": "d4080f31",
   "metadata": {
    "id": "d4080f31",
    "outputId": "06abfa9f-ece5-4eca-a5e2-5ce14ab0c57e"
   },
   "outputs": [
    {
     "data": {
      "text/plain": [
       "<neo4j.work.result.Result at 0x180709cefd0>"
      ]
     },
     "execution_count": 14,
     "metadata": {},
     "output_type": "execute_result"
    }
   ],
   "source": [
    "q4 = '''LOAD CSV WITH HEADERS FROM 'https://github.com/SimoneFarallo/One_Piece_Neo4j_Graph/raw/main/df_after_PP/foreshadows_neo4j' AS line CREATE (f:Foreshadows {setup:toString(line.Setup),payoff:toString(line.Payoff), chapters_later:toInteger(line.Chapters_Later), days_later:toInteger(line.Days_Later), years_later:toInteger(line.Years_Later)}) '''\n",
    "#session.run(q4)"
   ]
  },
  {
   "cell_type": "markdown",
   "id": "dc699b1f",
   "metadata": {
    "id": "dc699b1f"
   },
   "source": [
    "**Fruit_Class**: describes all the classes that refer to the devil's fruits."
   ]
  },
  {
   "cell_type": "code",
   "execution_count": null,
   "id": "9c4cdd46",
   "metadata": {
    "id": "9c4cdd46",
    "outputId": "d84c73c0-25fb-497f-d811-b7e0e49b292d"
   },
   "outputs": [
    {
     "data": {
      "text/plain": [
       "<neo4j.work.result.Result at 0x180709d6460>"
      ]
     },
     "execution_count": 15,
     "metadata": {},
     "output_type": "execute_result"
    }
   ],
   "source": [
    "q5 = '''LOAD CSV with headers FROM 'https://github.com/SimoneFarallo/One_Piece_Neo4j_Graph/raw/main/df_after_PP/Class_fruit_neo4j' AS line CREATE (fr:Fruit_class {class_name:toString(line.class)})'''\n",
    "#session.run(q5)"
   ]
  },
  {
   "cell_type": "markdown",
   "id": "5101c3a8",
   "metadata": {
    "id": "5101c3a8"
   },
   "source": [
    "**Sea**: describes all the seas present in the world of One Piece"
   ]
  },
  {
   "cell_type": "code",
   "execution_count": null,
   "id": "fa705757",
   "metadata": {
    "id": "fa705757",
    "outputId": "66b27ac4-23cc-4623-e53f-1a37809560fd"
   },
   "outputs": [
    {
     "data": {
      "text/plain": [
       "<neo4j.work.result.Result at 0x180709d6cd0>"
      ]
     },
     "execution_count": 16,
     "metadata": {},
     "output_type": "execute_result"
    }
   ],
   "source": [
    "#Creo i nodi dei mari\n",
    "q6 ='''LOAD CSV with headers FROM 'https://github.com/SimoneFarallo/One_Piece_Neo4j_Graph/raw/main/df_after_PP/Sea_neo4j' AS line CREATE (sea:Sea {sea_name:toString(line.sea)})'''\n",
    "#session.run(q6)"
   ]
  },
  {
   "cell_type": "markdown",
   "id": "455bae67",
   "metadata": {
    "id": "455bae67"
   },
   "source": [
    "**Race**: describes the races present within the world of One Piece."
   ]
  },
  {
   "cell_type": "code",
   "execution_count": null,
   "id": "2ef33c66",
   "metadata": {
    "id": "2ef33c66",
    "outputId": "b79c1ff8-aeae-4bf0-8bea-39e46a1b7027"
   },
   "outputs": [
    {
     "data": {
      "text/plain": [
       "<neo4j.work.result.Result at 0x180709d6fd0>"
      ]
     },
     "execution_count": 17,
     "metadata": {},
     "output_type": "execute_result"
    }
   ],
   "source": [
    "#Creo i nodi delle razze\n",
    "q7='''LOAD CSV WITH HEADERS FROM 'https://github.com/SimoneFarallo/One_Piece_Neo4j_Graph/raw/main/df_after_PP/Razze_neo4j' AS line CREATE (r:Race {name_race:toString(line.Race)})'''\n",
    "#session.run(q7)"
   ]
  },
  {
   "cell_type": "markdown",
   "id": "f72f4eb6",
   "metadata": {
    "id": "f72f4eb6"
   },
   "source": [
    "**Crews**: describes all the groups and crew in the world of One Piece."
   ]
  },
  {
   "cell_type": "code",
   "execution_count": null,
   "id": "a2405269",
   "metadata": {
    "id": "a2405269"
   },
   "outputs": [],
   "source": [
    "q8 = '''LOAD CSV WITH HEADERS FROM 'https://github.com/SimoneFarallo/One_Piece_Neo4j_Graph/raw/main/df_after_PP/Ciurme_neo4j' AS line CREATE (c:Crews {name_crew:toString(line.Nome_ciurma)})'''\n",
    "#session.run(q8)"
   ]
  },
  {
   "cell_type": "markdown",
   "id": "4f726736",
   "metadata": {
    "id": "4f726736"
   },
   "source": [
    "**Characters** : describes all character properties updated as of April 2022.\n",
    "\n",
    "The dataset contains null values so for the creation of these nodes we had to impose constraints on each property so that in case of null value the property is not created for that particular node."
   ]
  },
  {
   "cell_type": "code",
   "execution_count": null,
   "id": "3847ad18",
   "metadata": {
    "id": "3847ad18",
    "outputId": "97bb56ba-2e1a-42a2-a8d0-2888224d5d83"
   },
   "outputs": [
    {
     "data": {
      "text/plain": [
       "<neo4j.work.result.Result at 0x180709dfb50>"
      ]
     },
     "execution_count": 19,
     "metadata": {},
     "output_type": "execute_result"
    }
   ],
   "source": [
    "\n",
    "q9 = '''LOAD CSV WITH HEADERS FROM 'https://github.com/SimoneFarallo/One_Piece_Neo4j_Graph/raw/main/df_after_PP/Personaggi_neo4j' AS row\n",
    "MERGE (p:Characters {name_character:(row.Character)})\n",
    "FOREACH(ignoreMe IN CASE WHEN trim(row.Birth_Month) <> \"null\" THEN [1] ELSE [] END | SET p.birth_month = toString(row.Birth_Month))\n",
    "FOREACH(ignoreMe IN CASE WHEN trim(row.Birth_Day) <> \"null\" THEN [1] ELSE [] END | SET p.birth_day = toString(row.birth_Day))\n",
    "FOREACH(ignoreMe IN CASE WHEN trim(row.Age) <> \"null\" THEN [1] ELSE [] END | SET p.age = toInteger(row.Age))\n",
    "FOREACH(ignoreMe IN CASE WHEN trim(row.deceased) <> \"null\" THEN [1] ELSE [] END | SET p.deceased = (row.deceased))\n",
    "FOREACH(ignoreMe IN CASE WHEN trim(row.Birth_Island) <> \"null\" THEN [1] ELSE [] END | SET p.birth_island = toString(row.Birth_island))\n",
    "FOREACH(ignoreMe IN CASE WHEN trim(row.Hometown) <> \"null\" THEN [1] ELSE [] END | SET p.hometown = toString(row.Hometown))\n",
    "FOREACH(ignoreMe IN CASE WHEN trim(row.Blood_Type) <> \"null\" THEN [1] ELSE [] END | SET p.bood_type = toString(row.Blood_Type))\n",
    "FOREACH(ignoreMe IN CASE WHEN trim(row.Height_in_Meters) <> \"null\" THEN [1] ELSE [] END | SET p.height_in_meters = toFloat(row.Height_in_Meters))\n",
    "FOREACH(ignoreMe IN CASE WHEN trim(row.Height_in_Foot) <> \"null\" THEN [1] ELSE [] END | SET p.height_in_foot = toFloat(row.Height_in_Foot))\n",
    "FOREACH(ignoreMe IN CASE WHEN trim(row.Rank_Height) <> \"null\" THEN [1] ELSE [] END | SET p.rank_height = toInteger(row.Rank_Height))\n",
    "FOREACH(ignoreMe IN CASE WHEN trim(row.Bounty_USD) <> \"null\" THEN [1] ELSE [] END | SET p.bounty_USD = (row.Bounty_USD))\n",
    "FOREACH(ignoreMe IN CASE WHEN trim(row.Bounty_EUR) <> \"null\" THEN [1] ELSE [] END | SET p.bounty_EUR = (row.Bounty_EUR))\n",
    "FOREACH(ignoreMe IN CASE WHEN trim(row.Rank_Wanted) <> \"null\" THEN [1] ELSE [] END | SET p.rank_wanted = toInteger(row.Rank_Wanted))\n",
    "FOREACH(ignoreMe IN CASE WHEN trim(row.Devil_Fruit) <> \"null\" THEN [1] ELSE [] END | SET p.devil_fruit = toString(row.Devil_Fruit))\n",
    "FOREACH(ignoreMe IN CASE WHEN trim(row.Awakening_fruit_of_devil) <> \"null\" THEN [1] ELSE [] END | SET p.awakening_fruit_of_devil = (row.Awakening_fruit_of_devil))\n",
    "FOREACH(ignoreMe IN CASE WHEN trim(row.Armament_Haki) <> \"null\" THEN [1] ELSE [] END | SET p.armament_haki = (row.Armament_Haki))\n",
    "FOREACH(ignoreMe IN CASE WHEN trim(row.Observation_Haki) <> \"null\" THEN [1] ELSE [] END | SET p.observation_haki = (row.Observation_Haki))\n",
    "FOREACH(ignoreMe IN CASE WHEN trim(row.Conquerors_Haki) <> \"null\" THEN [1] ELSE [] END | SET p.conquerors_haki = (row.Conquerors_Haki))\n",
    "FOREACH(ignoreMe IN CASE WHEN trim(row.first_appearance_year) <> \"null\" THEN [1] ELSE [] END | SET p.first_appearance_year = toInteger(row.first_appearance_year))\n",
    "'''\n",
    "#session.run(q9)"
   ]
  },
  {
   "cell_type": "markdown",
   "id": "831aa1e2",
   "metadata": {
    "id": "831aa1e2"
   },
   "source": [
    "# Relations"
   ]
  },
  {
   "cell_type": "markdown",
   "id": "42e16551",
   "metadata": {
    "id": "42e16551"
   },
   "source": [
    "We import the relationships, using the bridge tables created in pre-processing."
   ]
  },
  {
   "cell_type": "markdown",
   "id": "c610ab2d",
   "metadata": {
    "id": "c610ab2d"
   },
   "source": [
    "Relation **Saga-[START_ON_EP]->Episode** : links each saga to the anime episode where it begins."
   ]
  },
  {
   "cell_type": "code",
   "execution_count": null,
   "id": "a9211e6e",
   "metadata": {
    "id": "a9211e6e",
    "outputId": "5612931c-893d-4569-d8c3-055f57bbc9ed"
   },
   "outputs": [
    {
     "data": {
      "text/plain": [
       "<neo4j.work.result.Result at 0x180709e2160>"
      ]
     },
     "execution_count": 20,
     "metadata": {},
     "output_type": "execute_result"
    }
   ],
   "source": [
    "q10 = '''LOAD CSV WITH HEADERS FROM 'https://github.com/SimoneFarallo/One_Piece_Neo4j_Graph/raw/main/df_bridge_tables/rel_saga_ep_neo4j' AS line\n",
    "MATCH (s:Saga {name_saga:toString(line.name_saga)}),(e:Episode{number_ep:toInteger(line.start_on_episode)}) \n",
    "CREATE(s)-[:START_ON_EP]->(e)'''\n",
    "#session.run(q10)"
   ]
  },
  {
   "cell_type": "markdown",
   "id": "db061e86",
   "metadata": {
    "id": "db061e86"
   },
   "source": [
    "Relation **Saga-[START_ON_CHAP]->Manga**: links each saga to the chapter of the manga where it begins."
   ]
  },
  {
   "cell_type": "code",
   "execution_count": null,
   "id": "b59bc53c",
   "metadata": {
    "id": "b59bc53c",
    "outputId": "d14f4635-dd98-4e37-e601-9fdd00ea809b"
   },
   "outputs": [
    {
     "data": {
      "text/plain": [
       "<neo4j.work.result.Result at 0x180709e2790>"
      ]
     },
     "execution_count": 21,
     "metadata": {},
     "output_type": "execute_result"
    }
   ],
   "source": [
    "q11 ='''LOAD CSV WITH HEADERS FROM 'https://github.com/SimoneFarallo/One_Piece_Neo4j_Graph/raw/main/df_bridge_tables/rel_saga_chap_neo4j' AS line\n",
    "MATCH (s:Saga {name_saga:toString(line.name_saga)}),(m:Manga{number_chapter:toInteger(line.start_on_chapter)}) \n",
    "CREATE(s)-[:START_ON_CHAP]->(m)'''\n",
    "#session.run(q11)"
   ]
  },
  {
   "cell_type": "markdown",
   "id": "8420cd08",
   "metadata": {
    "id": "8420cd08"
   },
   "source": [
    "Relation **Foreshadows-[SETUPPED]->Manga**: links prefigurations to the chapter in which they are introduced.\n",
    "\n",
    "Relation **Foreshadows-[REVELATE]->Manga**: links prefigurations to the chapter in which they are revealed."
   ]
  },
  {
   "cell_type": "code",
   "execution_count": null,
   "id": "8b65deb1",
   "metadata": {
    "id": "8b65deb1",
    "outputId": "b54d2722-212f-42d9-a00a-903c01635315"
   },
   "outputs": [
    {
     "data": {
      "text/plain": [
       "<neo4j.work.result.Result at 0x180709e2e80>"
      ]
     },
     "execution_count": 22,
     "metadata": {},
     "output_type": "execute_result"
    }
   ],
   "source": [
    "q12 = '''LOAD CSV WITH HEADERS FROM 'https://github.com/SimoneFarallo/One_Piece_Neo4j_Graph/raw/main/df_bridge_tables/rel_foreshadows_scan__neo4j' AS line\n",
    "MATCH (f:Foreshadows {setup:toString(line.Setup)}),(m:Manga {number_chapter:toInteger(line.scan_manga)})\n",
    "CREATE (f)-[:SETUPPED]->(m)'''\n",
    "#session.run(q12)\n",
    "q13 = '''LOAD CSV WITH HEADERS FROM 'https://github.com/SimoneFarallo/One_Piece_Neo4j_Graph/raw/main/df_bridge_tables/rel_foreshadows_scan_revelate_neo4j' AS line\n",
    "MATCH (f:Foreshadows {payoff:toString(line.Payoff)}),(m:Manga {number_chapter:toInteger(line.scan_manga_rivelato)})\n",
    "CREATE (f)-[:REVELATE]->(m)'''\n",
    "#session.run(q13)"
   ]
  },
  {
   "cell_type": "markdown",
   "id": "9e367077",
   "metadata": {
    "id": "9e367077"
   },
   "source": [
    "Relation **Characters-[FIRST_APPEARANCE_MANGA]->Manga**: links each character to the chapter in which he or she first appears."
   ]
  },
  {
   "cell_type": "code",
   "execution_count": null,
   "id": "85ffd587",
   "metadata": {
    "id": "85ffd587",
    "outputId": "f6a04d23-9ab9-40eb-89d5-b957c09d78eb"
   },
   "outputs": [
    {
     "data": {
      "text/plain": [
       "<neo4j.work.result.Result at 0x180709df0d0>"
      ]
     },
     "execution_count": 23,
     "metadata": {},
     "output_type": "execute_result"
    }
   ],
   "source": [
    "q14 ='''LOAD CSV WITH HEADERS  FROM 'https://github.com/SimoneFarallo/One_Piece_Neo4j_Graph/raw/main/df_bridge_tables/rel_character_manga_neo4j' AS line\n",
    "MATCH (c:Characters {name_character:toString(line.Character)}),(m:Manga {number_chapter:toInteger(line.first_appearance_chapter)})\n",
    "CREATE (c)-[:FIRST_APPEARANCE_MANGA]->(m)'''\n",
    "#session.run(q14)"
   ]
  },
  {
   "cell_type": "markdown",
   "id": "c4e12bfc",
   "metadata": {
    "id": "c4e12bfc"
   },
   "source": [
    "Relation **Characters-[FIRST_APPEARANCE_EP]->Episode**: links each character to the episode of the anime in which he or she first appears."
   ]
  },
  {
   "cell_type": "code",
   "execution_count": null,
   "id": "a8b1a9e7",
   "metadata": {
    "id": "a8b1a9e7",
    "outputId": "4c186198-63d8-4b17-ccaf-31071316579c"
   },
   "outputs": [
    {
     "data": {
      "text/plain": [
       "<neo4j.work.result.Result at 0x180709c48e0>"
      ]
     },
     "execution_count": 24,
     "metadata": {},
     "output_type": "execute_result"
    }
   ],
   "source": [
    "q15 ='''LOAD CSV WITH HEADERS  FROM 'https://github.com/SimoneFarallo/One_Piece_Neo4j_Graph/raw/main/df_bridge_tables/rel_character_ep_neo4j' AS line\n",
    "MATCH (c:Characters {name_character:toString(line.Character)}),(e:Episode {number_ep:toInteger(line.first_appearance_episode)})\n",
    "CREATE (c)-[:FIRST_APPEARANCE_EP]->(e)'''\n",
    "#session.run(q15)"
   ]
  },
  {
   "cell_type": "markdown",
   "id": "b5c00e82",
   "metadata": {
    "id": "b5c00e82"
   },
   "source": [
    "Relation **Characters-[WAS_BORN_IN]->Sea**: links each character to the sea in which he or she was born."
   ]
  },
  {
   "cell_type": "code",
   "execution_count": null,
   "id": "1f6e1810",
   "metadata": {
    "id": "1f6e1810",
    "outputId": "03573764-67a4-47d8-8984-a73b336d4626"
   },
   "outputs": [
    {
     "data": {
      "text/plain": [
       "<neo4j.work.result.Result at 0x180709d6910>"
      ]
     },
     "execution_count": 25,
     "metadata": {},
     "output_type": "execute_result"
    }
   ],
   "source": [
    "q16 = '''LOAD CSV WITH HEADERS  FROM 'https://github.com/SimoneFarallo/One_Piece_Neo4j_Graph/raw/main/df_bridge_tables/rel_character_sea_neo4j' AS line\n",
    "MATCH (c:Characters {name_character:toString(line.Character)}),(sea:Sea {sea_name:toString(line.Birth_sea)})\n",
    "CREATE (c)-[:WAS_BORN_IN]->(sea)'''\n",
    "#session.run(q16)"
   ]
  },
  {
   "cell_type": "markdown",
   "id": "9e76789f",
   "metadata": {
    "id": "9e76789f"
   },
   "source": [
    "Relation **Characters-[BELONGS_TO_CLASS]->Class_Fruit**: links each of the character's devil fruits to the respective class of the considered fruit."
   ]
  },
  {
   "cell_type": "code",
   "execution_count": null,
   "id": "9640a097",
   "metadata": {
    "id": "9640a097",
    "outputId": "f88b49cc-09d7-4fc7-cb03-cc618f8f6a67"
   },
   "outputs": [
    {
     "data": {
      "text/plain": [
       "<neo4j.work.result.Result at 0x180709a89d0>"
      ]
     },
     "execution_count": 26,
     "metadata": {},
     "output_type": "execute_result"
    }
   ],
   "source": [
    "q17=  '''LOAD CSV WITH HEADERS  FROM 'https://github.com/SimoneFarallo/One_Piece_Neo4j_Graph/raw/main/df_bridge_tables/rel_fruit_class_neo4j' AS line\n",
    "MATCH (c:Characters {name_character:toString(line.Character)}),(n:Fruit_class {class_name:toString(line.Devil_Fruit_Class)})\n",
    "CREATE (c)-[:BELONGS_TO_CLASS]->(n)'''\n",
    "#session.run(q17)"
   ]
  },
  {
   "cell_type": "markdown",
   "id": "954dafa8",
   "metadata": {
    "id": "954dafa8"
   },
   "source": [
    "Relation **Characters-[BELONGS_TO]->Crews**: connects each character to the crew to which they belong\n"
   ]
  },
  {
   "cell_type": "code",
   "execution_count": null,
   "id": "6e113e29",
   "metadata": {
    "id": "6e113e29",
    "outputId": "97ced539-434c-42b7-a699-cf4507267c19"
   },
   "outputs": [
    {
     "data": {
      "text/plain": [
       "<neo4j.work.result.Result at 0x180709c4df0>"
      ]
     },
     "execution_count": 27,
     "metadata": {},
     "output_type": "execute_result"
    }
   ],
   "source": [
    "q18=  '''LOAD CSV WITH HEADERS  FROM 'https://github.com/SimoneFarallo/One_Piece_Neo4j_Graph/raw/main/df_bridge_tables/rel_character_crew_neo4j' AS line\n",
    "MATCH (c:Characters{name_character:toString(line.Character)}),(n:Crews {name_crew:toString(line.Nome_ciurma)})\n",
    "CREATE (c)-[:BELONGS_TO]->(n)'''\n",
    "#session.run(q18)"
   ]
  },
  {
   "cell_type": "markdown",
   "id": "2f23a4b0",
   "metadata": {
    "id": "2f23a4b0"
   },
   "source": [
    "Relation **Characters-[BELONGS_TO_RACE]->Race**: links each character to the race to which they belong."
   ]
  },
  {
   "cell_type": "code",
   "execution_count": null,
   "id": "2fcba292",
   "metadata": {
    "id": "2fcba292",
    "outputId": "cb584488-3d2f-4b06-b67a-6c8deab1f4e9"
   },
   "outputs": [
    {
     "data": {
      "text/plain": [
       "<neo4j.work.result.Result at 0x180709e2c70>"
      ]
     },
     "execution_count": 28,
     "metadata": {},
     "output_type": "execute_result"
    }
   ],
   "source": [
    "q19 =  '''LOAD CSV WITH HEADERS  FROM 'https://github.com/SimoneFarallo/One_Piece_Neo4j_Graph/raw/main/df_bridge_tables/rel_charcater_race_neo4j' AS line\n",
    "MATCH (c:Characters{name_character:toString(line.Character)}),(n:Race {name_race:toString(line.Race)})\n",
    "CREATE (c)-[:BELONGS_TO_RACE]->(n)'''\n",
    "#session.run(q19)"
   ]
  },
  {
   "cell_type": "markdown",
   "id": "a36c31d6",
   "metadata": {
    "id": "a36c31d6"
   },
   "source": [
    "# Query for Data Exploration"
   ]
  },
  {
   "cell_type": "markdown",
   "id": "52c875da",
   "metadata": {
    "id": "52c875da"
   },
   "source": [
    "Queries were formulated to check that the database was working properly and that the data entered were correct."
   ]
  },
  {
   "cell_type": "markdown",
   "id": "e82169f6",
   "metadata": {
    "id": "e82169f6"
   },
   "source": [
    "**What are the characters born in the east-blue?**"
   ]
  },
  {
   "cell_type": "code",
   "execution_count": null,
   "id": "76e4de45",
   "metadata": {
    "id": "76e4de45"
   },
   "outputs": [],
   "source": [
    "q20 ='''MATCH (p:Characters)-[:WAS_BORN_IN]->(sea:Sea{sea_name:'East Blue'}) \n",
    "RETURN p.name_character'''\n",
    "#session.run(q20)"
   ]
  },
  {
   "cell_type": "markdown",
   "id": "0947a2e2",
   "metadata": {
    "id": "0947a2e2"
   },
   "source": [
    "**What characters appeared in the first episode who are part of Straw Hat's crew?**"
   ]
  },
  {
   "cell_type": "code",
   "execution_count": null,
   "id": "39511ca0",
   "metadata": {
    "id": "39511ca0"
   },
   "outputs": [],
   "source": [
    "q21 ='''MATCH (e:Episode{number_ep:'1'})<-[:FIRST_APPEARANCE_EP]-(p:Characters)-[:BELONGS_TO]->(c:Crews{name_crew:'Pirati di Cappello di paglia'}) \n",
    "RETURN p.name_character'''\n",
    "#session.run(q21)"
   ]
  },
  {
   "cell_type": "markdown",
   "id": "e2898d7e",
   "metadata": {
    "id": "e2898d7e"
   },
   "source": [
    "**What are the characters belonging to Big Mom's crew who possess the devil fruit? What class does their fruit belong to?**"
   ]
  },
  {
   "cell_type": "code",
   "execution_count": null,
   "id": "93ce0e0d",
   "metadata": {
    "id": "93ce0e0d"
   },
   "outputs": [],
   "source": [
    "q22 ='''MATCH(f:Fruit_class)<-[:BELONGS_TO_CLASS]- (c:Characters)-[:BELONGS_TO]->(n:Crews{name_crew:'Pirati di Big Mom'})  \n",
    "WHERE c.devil_fruit is not  null\n",
    "RETURN c.name_character,c.devil_fruit,f.class_name'''\n",
    "#session.run(q22)"
   ]
  },
  {
   "cell_type": "markdown",
   "id": "e462f982",
   "metadata": {
    "id": "e462f982"
   },
   "source": [
    "**Find all East Blue-born characters belonging to the human race and sort them according to the wanted ranking**"
   ]
  },
  {
   "cell_type": "code",
   "execution_count": null,
   "id": "d81aada3",
   "metadata": {
    "id": "d81aada3"
   },
   "outputs": [],
   "source": [
    "q23 = '''MATCH (s:Sea{sea_name:'East Blue'})<-[:WAS_BORN_IN]-(p:Characters)-[:BELONGS_TO_RACE]->(r:Race{name_race:'Human'}) \n",
    "WHERE p.bounty_EUR is not null             \n",
    "RETURN p.name_character,p.bounty_EUR,p.rank_wanted'''\n",
    "#session.run(q23)"
   ]
  },
  {
   "cell_type": "markdown",
   "id": "9daed236",
   "metadata": {
    "id": "9daed236"
   },
   "source": [
    "**Which characters appeared first in the episode with the highest grade point average?**"
   ]
  },
  {
   "cell_type": "code",
   "execution_count": null,
   "id": "6a6a5fe1",
   "metadata": {
    "id": "6a6a5fe1"
   },
   "outputs": [],
   "source": [
    "q24 ='''MATCH (e:Episode)<-[:FIRST_APPEARANCE_EP]-(c:Characters) \n",
    "WITH max(e.average_rating_ep) AS max\n",
    "MATCH (e:Episode)<-[:FIRST_APPEARANCE_EP]-(c:Characters) \n",
    "WHERE e.average_rating_ep=max \n",
    "RETURN e,c'''\n",
    "#session.run(q24)"
   ]
  },
  {
   "cell_type": "markdown",
   "id": "685b82d4",
   "metadata": {
    "id": "685b82d4"
   },
   "source": [
    "**Which saga has the most episodes and in which episode does it begin?**"
   ]
  },
  {
   "cell_type": "code",
   "execution_count": null,
   "id": "3cedcc50",
   "metadata": {
    "id": "3cedcc50"
   },
   "outputs": [],
   "source": [
    "q25 = '''MATCH (n:Saga)-[:START_ON_EP]->(e:Episode) \n",
    "WITH max(n.total_episodes) AS max \n",
    "MATCH  (n:Saga)-[:START_ON_EP]->(e:Episode) \n",
    "WHERE n.total_episodes=max  \n",
    "RETURN n,e'''\n",
    "#session.run(q25)"
   ]
  },
  {
   "cell_type": "markdown",
   "id": "936b92c1",
   "metadata": {
    "id": "936b92c1"
   },
   "source": [
    "**Which characters belonging to the Hundred Beasts crew are in possession of a sea fruit? Sort them according to the wanted ranking**"
   ]
  },
  {
   "cell_type": "code",
   "execution_count": null,
   "id": "68f5773c",
   "metadata": {
    "id": "68f5773c"
   },
   "outputs": [],
   "source": [
    "q26 = '''MATCH (n:Characters)-[:BELONGS_TO]->(c:Crews{name_crew:'Pirati delle cento bestie'}) \n",
    "WHERE n.devil_fruit is not null and n.rank_wanted is not null \n",
    "RETURN n.name_character,n.devil_fruit,n.rank_wanted,n.bounty_EUR \n",
    "ORDER BY n.rank_wanted'''\n",
    "#session.run(q26)"
   ]
  },
  {
   "cell_type": "markdown",
   "id": "267c3692",
   "metadata": {
    "id": "267c3692"
   },
   "source": [
    "**Who is the shortest character in One Piece? What race and what crew do you belong to?**"
   ]
  },
  {
   "cell_type": "code",
   "execution_count": null,
   "id": "52b814e6",
   "metadata": {
    "id": "52b814e6"
   },
   "outputs": [],
   "source": [
    "q27 = '''MATCH (n:Crews)<-[:BELONGS_TO]- (c:Characters)-[:BELONGS_TO_RACE]->(r:Race) \n",
    "WITH min(c.height_in_meters) AS min \n",
    "MATCH (n:Crews)<-[:BELONGS_TO]- (c:Characters)-[:BELONGS_TO_RACE]->(r:Race) \n",
    "WHERE c.height_in_meters = min \n",
    "RETURN c,n,r'''\n",
    "#session.run(q27)"
   ]
  },
  {
   "cell_type": "markdown",
   "id": "d663a4ad",
   "metadata": {
    "id": "d663a4ad"
   },
   "source": [
    "**When the foreshadowing regarding \"Monkey D. Dragon brings a wounded person to the ship\" is revealed and what is revealed?**"
   ]
  },
  {
   "cell_type": "code",
   "execution_count": null,
   "id": "5f46c1ad",
   "metadata": {
    "id": "5f46c1ad"
   },
   "outputs": [],
   "source": [
    "q28 ='''MATCH (f:Foreshadows)-[r:SETUPPED]->(m:Manga) \n",
    "WHERE f.setup='Monkey D. Dragon brings a wounded person to the ship' \n",
    "RETURN f,m'''\n",
    "#session.run(q28)"
   ]
  },
  {
   "cell_type": "markdown",
   "id": "285bfbb7",
   "metadata": {
    "id": "285bfbb7"
   },
   "source": [
    "**When did the saga in the Anime of \"Syrup Village Arc\" begin? Are there any characters belonging to any crew or group?**"
   ]
  },
  {
   "cell_type": "code",
   "execution_count": null,
   "id": "1703dec0",
   "metadata": {
    "id": "1703dec0"
   },
   "outputs": [],
   "source": [
    "q29 ='''MATCH (s:Saga{name_saga:'Syrup Village Arc'})-[:START_ON_EP]->(e:Episode)<-[:FIRST_APPEARANCE_EP]-(c:Characters)-[:BELONGS_TO]->(a:Crews) \n",
    "RETURN c.name_character,a.name_crew,e.number_ep,e.title_ep'''\n",
    "#session.run(q29)"
   ]
  },
  {
   "cell_type": "markdown",
   "id": "761ed8e2",
   "metadata": {
    "id": "761ed8e2"
   },
   "source": [
    "**Who are the characters who belong to the human race,are part of the group \"Pirate Heart\" and are in possession of a devil fruit?**"
   ]
  },
  {
   "cell_type": "code",
   "execution_count": null,
   "id": "13624e76",
   "metadata": {
    "id": "13624e76"
   },
   "outputs": [],
   "source": [
    "q30 = '''MATCH  (r:Race{name_race:'Human'})<-[:BELONGS_TO_RACE]-(c:Characters)-[:BELONGS_TO]->(a:Crews) \n",
    "WHERE a.name_crew='Pirati Heart' AND c.devil_fruit IS NOT NULL \n",
    "RETURN c'''\n",
    "#session.run(q30)"
   ]
  },
  {
   "cell_type": "markdown",
   "id": "1fef14fb",
   "metadata": {
    "id": "1fef14fb"
   },
   "source": [
    "**Who are the characters taller than 10 feet? What race do they belong to?**"
   ]
  },
  {
   "cell_type": "code",
   "execution_count": null,
   "id": "e895eccd",
   "metadata": {
    "id": "e895eccd"
   },
   "outputs": [],
   "source": [
    "q31 = '''MATCH (n:Characters)-[:BELONGS_TO_RACE]->(c:Race)\n",
    "WHERE n.height_in_meters > 3\n",
    "RETURN n,c'''\n",
    "#session.run(q31)\n"
   ]
  },
  {
   "cell_type": "markdown",
   "id": "5667cb4e",
   "metadata": {
    "id": "5667cb4e"
   },
   "source": [
    "After downloading the Neo4j plugin extension called APOC, the following commands were used to export the database:"
   ]
  },
  {
   "cell_type": "code",
   "execution_count": null,
   "id": "dd8b7791",
   "metadata": {
    "id": "dd8b7791"
   },
   "outputs": [],
   "source": [
    "q32='''CALL apoc.export.json.all(\"one_piece_graph(JSON)\",{useTypes:true})'''\n",
    "#session.run(32)\n",
    "q33='''CALL apoc.export.csv.all(\"one_piece_graph(CSV)\", {})'''\n",
    "#session.run(33)\n"
   ]
  },
  {
   "cell_type": "markdown",
   "id": "91a74ca7",
   "metadata": {
    "id": "91a74ca7"
   },
   "source": [
    "The database was saved in both CSV and JSON formats."
   ]
  },
  {
   "cell_type": "code",
   "execution_count": null,
   "id": "42e4a6b2",
   "metadata": {},
   "outputs": [],
   "source": []
  }
 ],
 "metadata": {
  "colab": {
   "name": "Code_Neo4j.ipynb",
   "provenance": []
  },
  "kernelspec": {
   "display_name": "Python 3",
   "language": "python",
   "name": "python3"
  },
  "language_info": {
   "codemirror_mode": {
    "name": "ipython",
    "version": 3
   },
   "file_extension": ".py",
   "mimetype": "text/x-python",
   "name": "python",
   "nbconvert_exporter": "python",
   "pygments_lexer": "ipython3",
   "version": "3.8.8"
  }
 },
 "nbformat": 4,
 "nbformat_minor": 5
}
